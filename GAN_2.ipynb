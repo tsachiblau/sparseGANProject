{
  "nbformat": 4,
  "nbformat_minor": 0,
  "metadata": {
    "accelerator": "GPU",
    "colab": {
      "name": "Copy of GAN_roy.ipynb",
      "provenance": [],
      "collapsed_sections": [],
      "toc_visible": true,
      "include_colab_link": true
    },
    "kernelspec": {
      "display_name": "Python 3",
      "language": "python",
      "name": "python3"
    },
    "language_info": {
      "codemirror_mode": {
        "name": "ipython",
        "version": 3
      },
      "file_extension": ".py",
      "mimetype": "text/x-python",
      "name": "python",
      "nbconvert_exporter": "python",
      "pygments_lexer": "ipython3",
      "version": "3.7.6"
    }
  },
  "cells": [
    {
      "cell_type": "markdown",
      "metadata": {
        "id": "view-in-github",
        "colab_type": "text"
      },
      "source": [
        "<a href=\"https://colab.research.google.com/github/tsachiblau/sparseGANProject/blob/master/GAN_2.ipynb\" target=\"_parent\"><img src=\"https://colab.research.google.com/assets/colab-badge.svg\" alt=\"Open In Colab\"/></a>"
      ]
    },
    {
      "cell_type": "markdown",
      "metadata": {
        "colab_type": "text",
        "id": "14a9RmJ24UwD"
      },
      "source": [
        "setting up"
      ]
    },
    {
      "cell_type": "code",
      "metadata": {
        "colab_type": "code",
        "id": "2zvKqbkD4PYl",
        "outputId": "b9579fad-d67f-46bf-c6a8-a8edfd0db170",
        "colab": {
          "base_uri": "https://localhost:8080/",
          "height": 80
        }
      },
      "source": [
        "from keras.optimizers import Adam\n",
        "import numpy as np\n",
        "\n",
        "#set seed\n",
        "np.random.seed(10)\n",
        "\n",
        "#train params\n",
        "steps_per_epoch = 3750  # batch_size * steps_per_epoch = epoch size (train size)\n",
        "epochs = 1\n",
        "optimizer = Adam(0.0002, 0.5)\n",
        "\n",
        "#gan param\n",
        "noise_dim = 100\n",
        "\n",
        "#images params\n",
        "img_rows, img_cols, channels = 28, 28, 1\n",
        "batch_size = 16\n",
        "\n",
        "#sparse params\n",
        "# sparse_dim = img_rows * img_cols * channels\n",
        "sparse_dim = 10\n",
        "L1_weight = 0.01   # Loss = data_fidelity + L1_weight * L1_norm"
      ],
      "execution_count": 2,
      "outputs": [
        {
          "output_type": "stream",
          "text": [
            "Using TensorFlow backend.\n"
          ],
          "name": "stderr"
        },
        {
          "output_type": "display_data",
          "data": {
            "text/html": [
              "<p style=\"color: red;\">\n",
              "The default version of TensorFlow in Colab will soon switch to TensorFlow 2.x.<br>\n",
              "We recommend you <a href=\"https://www.tensorflow.org/guide/migrate\" target=\"_blank\">upgrade</a> now \n",
              "or ensure your notebook will continue to use TensorFlow 1.x via the <code>%tensorflow_version 1.x</code> magic:\n",
              "<a href=\"https://colab.research.google.com/notebooks/tensorflow_version.ipynb\" target=\"_blank\">more info</a>.</p>\n"
            ],
            "text/plain": [
              "<IPython.core.display.HTML object>"
            ]
          },
          "metadata": {
            "tags": []
          }
        }
      ]
    },
    {
      "cell_type": "markdown",
      "metadata": {
        "colab_type": "text",
        "id": "0Pmcqqq_4hKF"
      },
      "source": [
        "import data set"
      ]
    },
    {
      "cell_type": "code",
      "metadata": {
        "colab_type": "code",
        "id": "scz9uAsy4jX2",
        "outputId": "ca4c6f52-b524-4c23-91e4-cd9309688b82",
        "colab": {
          "base_uri": "https://localhost:8080/",
          "height": 34
        }
      },
      "source": [
        "from keras.datasets import mnist\n",
        "\n",
        "(x_train, y_train), (x_test, y_test) = mnist.load_data()\n",
        "x_train = (x_train.astype(np.float32) - 127.5) / 127.5  # normalize between +1 -1\n",
        "\n",
        "x_train = x_train.reshape(-1, img_rows*img_cols*channels) # each image as vector\n",
        "\n",
        "np.random.shuffle(x_train)\n",
        "print(x_train.shape)"
      ],
      "execution_count": 3,
      "outputs": [
        {
          "output_type": "stream",
          "text": [
            "(60000, 784)\n"
          ],
          "name": "stdout"
        }
      ]
    },
    {
      "cell_type": "markdown",
      "metadata": {
        "colab_type": "text",
        "id": "QhlKF-A-2bjV"
      },
      "source": [
        "*Train* or load sparse dictionary:"
      ]
    },
    {
      "cell_type": "code",
      "metadata": {
        "id": "TX8fMEpmqs1V",
        "colab_type": "code",
        "colab": {
          "base_uri": "https://localhost:8080/",
          "height": 51
        },
        "outputId": "dff02d07-0abf-48dc-f1cc-c10f0a1f00ba"
      },
      "source": [
        "import matplotlib.pyplot as plt\n",
        "import pickle\n",
        "import os.path\n",
        "from os import path\n",
        "\n",
        "#save dictionary\n",
        "\n",
        "# we will download to a local file named dictionary_loaded\n",
        "#*reconstruct* an image for sanity check\n",
        "\n",
        "# savetxt('dictionary.csv', dictionary_loaded2, delimiter=',')\n",
        "file_path = 'dictionary.pkl'\n",
        "\n",
        "if not path.exists(file_path):\n",
        "\n",
        "  d=DictionaryLearning(n_components=sparse_dim)\n",
        "  # train dictionary\n",
        "  d.fit(x_train[1:sparse_dim,:])\n",
        "  dictionary = d.components_\n",
        "  print(dictionary.shape)\n",
        "\n",
        "  with open(file_path, 'wb') as output:\n",
        "    pickle.dump(d, output, pickle.HIGHEST_PROTOCOL)\n",
        "  print(\"created new dictionary\")\n",
        "\n",
        "else:\n",
        "\n",
        "  with open(file_path, 'rb') as input:\n",
        "    d = pickle.load(input)\n",
        "  # print(d)\n",
        "  print(\"loaded dictionary\")\n",
        "\n",
        "dictionary_loaded2 = np.transpose(d.components_)\n",
        "dictionary_loaded2 = np.array(dictionary_loaded2, dtype = np.float32)\n",
        "print(dictionary_loaded2.shape)\n"
      ],
      "execution_count": 4,
      "outputs": [
        {
          "output_type": "stream",
          "text": [
            "loaded dictionary\n",
            "(784, 10)\n"
          ],
          "name": "stdout"
        }
      ]
    },
    {
      "cell_type": "markdown",
      "metadata": {
        "id": "-ODnlRmKyHfj",
        "colab_type": "text"
      },
      "source": [
        "**sanity** check"
      ]
    },
    {
      "cell_type": "code",
      "metadata": {
        "id": "pumfxlqpsgdZ",
        "colab_type": "code",
        "colab": {
          "base_uri": "https://localhost:8080/",
          "height": 303
        },
        "outputId": "b0391320-aa88-4cfb-d0da-b10eee3d0d9a"
      },
      "source": [
        "representation_vec = d.transform(x_train[1:2,:])\n",
        "representation_vec = np.transpose(representation_vec)\n",
        "print(representation_vec.shape)\n",
        "ans = np.matmul(dictionary_loaded2,representation_vec)\n",
        "plt.figure()\n",
        "plt.subplot(121)\n",
        "plt.imshow(ans.reshape((img_rows, img_cols)), cmap='gray')\n",
        "plt.subplot(122)\n",
        "real_im = x_train[1:2,:]\n",
        "plt.imshow(real_im.reshape((img_rows, img_cols)), cmap='gray')\n"
      ],
      "execution_count": 5,
      "outputs": [
        {
          "output_type": "stream",
          "text": [
            "(10, 1)\n"
          ],
          "name": "stdout"
        },
        {
          "output_type": "stream",
          "text": [
            "/usr/local/lib/python3.6/dist-packages/sklearn/decomposition/_dict_learning.py:177: RuntimeWarning:  Orthogonal matching pursuit ended prematurely due to linear\n",
            "dependence in the dictionary. The requested precision might not have been met.\n",
            "\n",
            "  copy_Xy=copy_cov).T\n"
          ],
          "name": "stderr"
        },
        {
          "output_type": "execute_result",
          "data": {
            "text/plain": [
              "<matplotlib.image.AxesImage at 0x7f8ab47e2f60>"
            ]
          },
          "metadata": {
            "tags": []
          },
          "execution_count": 5
        },
        {
          "output_type": "display_data",
          "data": {
            "image/png": "[encoded data removed]",
            "text/plain": [
              "<Figure size 432x288 with 2 Axes>"
            ]
          },
          "metadata": {
            "tags": []
          }
        }
      ]
    },
    {
      "cell_type": "code",
      "metadata": {
        "colab_type": "code",
        "id": "AEy9l_3ByRqq",
        "outputId": "f3dc9df5-f769-405b-b23d-5d3b64239642",
        "colab": {
          "base_uri": "https://localhost:8080/",
          "height": 595
        }
      },
      "source": [
        "# with pursuit and thresholding approach\n",
        "# generator:\n",
        "from keras.models import Sequential\n",
        "from keras.layers.advanced_activations import LeakyReLU\n",
        "from keras.layers import Input\n",
        "from keras.models import Model\n",
        "from keras.initializers import RandomNormal\n",
        "from keras.layers import Dense, Conv2D, Flatten, Reshape, Dropout, AveragePooling2D, MaxPooling2D, BatchNormalization, Lambda\n",
        "from tensorflow.linalg import matmul, matrix_transpose\n",
        "\n",
        "# input: sparse vec size\n",
        "# output: noise size\n",
        "def create_reconstructor():\n",
        "    reconstructor = Sequential()\n",
        "\n",
        "    #reconstructor.add(Dense(512, input_dim=img_cols*img_rows*channels))\n",
        "    reconstructor.add(Dense(512, input_dim=sparse_dim))\n",
        "    reconstructor.add(LeakyReLU(0.2))\n",
        "\n",
        "    reconstructor.add(Dense(256))\n",
        "    reconstructor.add(LeakyReLU(0.2))\n",
        "\n",
        "    reconstructor.add(Dense(noise_dim))\n",
        "    reconstructor.add(LeakyReLU(0.2))\n",
        "\n",
        "    #reconstructor.compile(loss='mean_squared_error', optimizer='sgd')\n",
        "    return reconstructor\n",
        "\n",
        "# input: noise size\n",
        "# output: sparse vec size\n",
        "def create_generator():\n",
        "    generator = Sequential()\n",
        "    \n",
        "    generator.add(Dense(256, input_dim=noise_dim))\n",
        "    generator.add(BatchNormalization())\n",
        "    generator.add(LeakyReLU(0.2))\n",
        "\n",
        "    generator.add(Dense(512))\n",
        "    generator.add(BatchNormalization())\n",
        "    generator.add(LeakyReLU(0.2))\n",
        "\n",
        "    generator.add(Dense(1024))\n",
        "    generator.add(BatchNormalization())\n",
        "    generator.add(LeakyReLU(0.2))\n",
        "\n",
        "    generator.add(Dense(sparse_dim, activation='tanh'))\n",
        "    return generator\n",
        "\n",
        "# input: image size\n",
        "# output: 1 number - 1 real 0 fake\n",
        "# descriminator:\n",
        "def create_descriminator():\n",
        "    discriminator = Sequential()\n",
        "    #16 - better\n",
        "    discriminator.add(Conv2D(16, (3, 3), strides=(2,2),padding='same', kernel_initializer=RandomNormal(0, 0.02), input_shape=(img_cols, img_rows, channels)))\n",
        "    discriminator.add(BatchNormalization())\n",
        "    discriminator.add(LeakyReLU(0.2))\n",
        "    #32 - better\n",
        "    discriminator.add(Conv2D(32, (3, 3), strides=(2,2), padding='same', kernel_initializer=RandomNormal(0, 0.02)))\n",
        "    discriminator.add(BatchNormalization())\n",
        "    discriminator.add(LeakyReLU(0.2))\n",
        "    # 64 - better\n",
        "    discriminator.add(Conv2D(64, (3, 3), strides=(2,2), padding='same', kernel_initializer=RandomNormal(0, 0.02)))\n",
        "    discriminator.add(BatchNormalization())\n",
        "    discriminator.add(LeakyReLU(0.2))\n",
        "    \n",
        "    discriminator.add(Flatten())\n",
        "    discriminator.add(Dropout(0.4))\n",
        "    discriminator.add(Dense(1, activation='sigmoid'))   # 1 number which indicates real / fake\n",
        "    \n",
        "    discriminator.compile(loss='binary_crossentropy', optimizer=optimizer)\n",
        "    return discriminator\n",
        "\n",
        "# build GAN\n",
        "discriminator = create_descriminator()\n",
        "generator = create_generator()\n",
        "reconstructor = create_reconstructor()\n",
        "\n",
        "discriminator.trainable = False   # will be trained separately, not as GAN\n",
        "\n",
        "gan_input = Input(shape=(noise_dim,))\n",
        "\n",
        "# G(z) is a sparse vector\n",
        "sparse_vec = generator(gan_input)   # sparse_dim size\n",
        "\n",
        "# a layer that creates the multiplication between the sparse tensor with dictionary to create image\n",
        "fake_image_vec = Lambda(lambda x: matrix_transpose(matmul(dictionary_loaded2,matrix_transpose(x))))(sparse_vec)\n",
        "# reshape to image size - will be inserted to discriminator\n",
        "fake_image = Reshape((img_rows, img_cols, channels))(fake_image_vec)\n",
        "\n",
        "gan_output = discriminator(fake_image)  # the descriminator output\n",
        "vae_output = reconstructor(sparse_vec)  # the reconstructor output\n",
        "\n",
        "vae = Model(gan_input, vae_output)\n",
        "vae.compile(loss='mean_squared_error', optimizer='sgd')\n",
        "\n",
        "# todo - double output double loss\n",
        "gan = Model(gan_input, [gan_output,sparse_vec])\n",
        "gan.compile(loss=['binary_crossentropy','mean_absolute_error'], optimizer=optimizer,loss_weights=[1,L1_weight])\n",
        "\n"
      ],
      "execution_count": 6,
      "outputs": [
        {
          "output_type": "stream",
          "text": [
            "WARNING:tensorflow:From /usr/local/lib/python3.6/dist-packages/keras/backend/tensorflow_backend.py:66: The name tf.get_default_graph is deprecated. Please use tf.compat.v1.get_default_graph instead.\n",
            "\n",
            "WARNING:tensorflow:From /usr/local/lib/python3.6/dist-packages/keras/backend/tensorflow_backend.py:541: The name tf.placeholder is deprecated. Please use tf.compat.v1.placeholder instead.\n",
            "\n",
            "WARNING:tensorflow:From /usr/local/lib/python3.6/dist-packages/keras/backend/tensorflow_backend.py:4409: The name tf.random_normal is deprecated. Please use tf.random.normal instead.\n",
            "\n",
            "WARNING:tensorflow:From /usr/local/lib/python3.6/dist-packages/keras/backend/tensorflow_backend.py:190: The name tf.get_default_session is deprecated. Please use tf.compat.v1.get_default_session instead.\n",
            "\n",
            "WARNING:tensorflow:From /usr/local/lib/python3.6/dist-packages/keras/backend/tensorflow_backend.py:197: The name tf.ConfigProto is deprecated. Please use tf.compat.v1.ConfigProto instead.\n",
            "\n",
            "WARNING:tensorflow:From /usr/local/lib/python3.6/dist-packages/keras/backend/tensorflow_backend.py:203: The name tf.Session is deprecated. Please use tf.compat.v1.Session instead.\n",
            "\n",
            "WARNING:tensorflow:From /usr/local/lib/python3.6/dist-packages/keras/backend/tensorflow_backend.py:207: The name tf.global_variables is deprecated. Please use tf.compat.v1.global_variables instead.\n",
            "\n",
            "WARNING:tensorflow:From /usr/local/lib/python3.6/dist-packages/keras/backend/tensorflow_backend.py:216: The name tf.is_variable_initialized is deprecated. Please use tf.compat.v1.is_variable_initialized instead.\n",
            "\n",
            "WARNING:tensorflow:From /usr/local/lib/python3.6/dist-packages/keras/backend/tensorflow_backend.py:223: The name tf.variables_initializer is deprecated. Please use tf.compat.v1.variables_initializer instead.\n",
            "\n",
            "WARNING:tensorflow:From /usr/local/lib/python3.6/dist-packages/keras/backend/tensorflow_backend.py:2041: The name tf.nn.fused_batch_norm is deprecated. Please use tf.compat.v1.nn.fused_batch_norm instead.\n",
            "\n",
            "WARNING:tensorflow:From /usr/local/lib/python3.6/dist-packages/keras/backend/tensorflow_backend.py:148: The name tf.placeholder_with_default is deprecated. Please use tf.compat.v1.placeholder_with_default instead.\n",
            "\n",
            "WARNING:tensorflow:From /usr/local/lib/python3.6/dist-packages/keras/backend/tensorflow_backend.py:3733: calling dropout (from tensorflow.python.ops.nn_ops) with keep_prob is deprecated and will be removed in a future version.\n",
            "Instructions for updating:\n",
            "Please use `rate` instead of `keep_prob`. Rate should be set to `rate = 1 - keep_prob`.\n",
            "WARNING:tensorflow:From /usr/local/lib/python3.6/dist-packages/keras/backend/tensorflow_backend.py:4432: The name tf.random_uniform is deprecated. Please use tf.random.uniform instead.\n",
            "\n",
            "WARNING:tensorflow:From /usr/local/lib/python3.6/dist-packages/keras/optimizers.py:793: The name tf.train.Optimizer is deprecated. Please use tf.compat.v1.train.Optimizer instead.\n",
            "\n",
            "WARNING:tensorflow:From /usr/local/lib/python3.6/dist-packages/keras/backend/tensorflow_backend.py:3657: The name tf.log is deprecated. Please use tf.math.log instead.\n",
            "\n",
            "WARNING:tensorflow:From /usr/local/lib/python3.6/dist-packages/tensorflow_core/python/ops/nn_impl.py:183: where (from tensorflow.python.ops.array_ops) is deprecated and will be removed in a future version.\n",
            "Instructions for updating:\n",
            "Use tf.where in 2.0, which has the same broadcast rule as np.where\n"
          ],
          "name": "stdout"
        }
      ]
    },
    {
      "cell_type": "markdown",
      "metadata": {
        "colab_type": "text",
        "id": "6YqJYPne8MNj"
      },
      "source": [
        "2nd approach train"
      ]
    },
    {
      "cell_type": "code",
      "metadata": {
        "colab_type": "code",
        "id": "Yy-TP8Zj8N8r",
        "outputId": "470a916e-c5f1-4855-a5ad-bc83f17cd3c9",
        "colab": {
          "base_uri": "https://localhost:8080/",
          "height": 51
        }
      },
      "source": [
        "import matplotlib.pyplot as plt\n",
        "\n",
        "for epoch in range(epochs):  #epochs\n",
        "    num_of_non_zeros = 0\n",
        "    \n",
        "    for batch in range(steps_per_epoch):  #steps_per_epoch\n",
        "        noise = np.random.normal(0, 1, size=(batch_size, noise_dim))  # will generate batch amount of noise vectors (gaussian distribution)\n",
        "        fake_x = generator.predict(noise) # create G(z)\n",
        "        num_of_non_zeros = num_of_non_zeros + np.sum(fake_x > 0.1)\n",
        "        # fake is (batch_size,sparse_dim)\n",
        "        \n",
        "        fake_x = np.transpose(fake_x)\n",
        "        # thresholding\n",
        "        \n",
        "        # multiply by dict\n",
        "        fake_x = np.matmul(dictionary_loaded2,fake_x)\n",
        "        fake_x = np.transpose(fake_x)\n",
        "        fake_x = fake_x.reshape(batch_size,img_rows,img_cols,channels)\n",
        "        # fake_x is of size (batch,rows,cols,channels)\n",
        "\n",
        "        real_x = x_train[np.random.randint(0, x_train.shape[0], size=batch_size)] # sample real image\n",
        "        #remove below to return to FC scheme\n",
        "        real_x = real_x.reshape(fake_x.shape)\n",
        "\n",
        "        x = np.concatenate((real_x, fake_x))\n",
        "        # x is of size (2*batch,rows,cols,channels)\n",
        "        \n",
        "        disc_y = np.zeros(2*batch_size)\n",
        "        disc_y[:batch_size] = 0.9\n",
        "\n",
        "        # train_on_batch recieves data and desired output\n",
        "        d_loss_fake = discriminator.train_on_batch(x[:batch_size], disc_y[:batch_size])\n",
        "        d_loss_real = discriminator.train_on_batch(x[batch_size:], disc_y[batch_size:])\n",
        "        \n",
        "        # train GAN (descriminator weights are fixed)\n",
        "        y_gen_1 = np.ones(batch_size)\n",
        "        y_gen_2 = np.zeros(batch_size * sparse_dim)\n",
        "        y_gen_2 = y_gen_2.reshape(batch_size,sparse_dim)\n",
        "        # TODO train the two outputs\n",
        "        g_loss = gan.train_on_batch(noise, [y_gen_1,y_gen_2])\n",
        "\n",
        "        # train reconstructor\n",
        "        r_loss = vae.train_on_batch(noise[:batch_size],noise[:batch_size])\n",
        "        \n",
        "        \n",
        "\n",
        "    print(f'Epoch: {epoch} \\t Discriminator Loss_fake: {d_loss_fake} \\t Discriminator Loss_real: {d_loss_real}\\t\\t Generator Loss: {g_loss} \\t\\t Reconstructor Loss: {r_loss} \\t\\t num_of_non_zeros: {num_of_non_zeros/(steps_per_epoch * batch_size)}')\n",
        "\n",
        "\n",
        "def show_images(noise):\n",
        "    generated_images = generator.predict(noise)\n",
        "    generated_images = np.matmul(dictionary_loaded2,np.transpose(generated_images))\n",
        "    generated_images = np.transpose(generated_images)\n",
        "    plt.figure(figsize=(10, 10))\n",
        "    \n",
        "    for i, image in enumerate(generated_images):\n",
        "        plt.subplot(10, 10, i+1)\n",
        "        if channels == 1:\n",
        "            plt.imshow(image.reshape((img_rows, img_cols)), cmap='gray')\n",
        "        else:\n",
        "            plt.imshow(image.reshape((img_rows, img_cols, channels)))\n",
        "        plt.axis('off')\n",
        "    \n",
        "    plt.tight_layout()\n",
        "    plt.show()\n",
        "\n",
        "\n",
        "noise = np.random.normal(0, 1, size=(100, noise_dim))\n",
        "show_images(noise)"
      ],
      "execution_count": 0,
      "outputs": [
        {
          "output_type": "stream",
          "text": [
            "/usr/local/lib/python3.6/dist-packages/keras/engine/training.py:493: UserWarning: Discrepancy between trainable weights and collected trainable weights, did you set `model.trainable` without calling `model.compile` after ?\n",
            "  'Discrepancy between trainable weights and collected trainable'\n"
          ],
          "name": "stderr"
        }
      ]
    },
    {
      "cell_type": "code",
      "metadata": {
        "id": "yU6Paqj-2lOS",
        "colab_type": "code",
        "colab": {}
      },
      "source": [
        ""
      ],
      "execution_count": 0,
      "outputs": []
    }
  ]
}