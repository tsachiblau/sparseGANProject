{
  "nbformat": 4,
  "nbformat_minor": 0,
  "metadata": {
    "colab": {
      "name": "NN_sparse_pursuit.ipynb",
      "provenance": [],
      "collapsed_sections": [],
      "authorship_tag": "ABX9TyOQItybCvDOAZ9aPGb9iVXK",
      "include_colab_link": true
    },
    "kernelspec": {
      "name": "python3",
      "display_name": "Python 3"
    }
  },
  "cells": [
    {
      "cell_type": "markdown",
      "metadata": {
        "id": "view-in-github",
        "colab_type": "text"
      },
      "source": [
        "<a href=\"https://colab.research.google.com/github/tsachiblau/sparseGANProject/blob/master/NN_sparse_pursuit.ipynb\" target=\"_parent\"><img src=\"https://colab.research.google.com/assets/colab-badge.svg\" alt=\"Open In Colab\"/></a>"
      ]
    },
    {
      "cell_type": "markdown",
      "metadata": {
        "id": "aokrzvz7U4fm",
        "colab_type": "text"
      },
      "source": [
        "This notebook contains implementation of sparse representation pursuit using NN"
      ]
    },
    {
      "cell_type": "markdown",
      "metadata": {
        "id": "owhk6qUmVM2k",
        "colab_type": "text"
      },
      "source": [
        "Set up & load data set"
      ]
    },
    {
      "cell_type": "code",
      "metadata": {
        "id": "rIctqJsfU3NR",
        "colab_type": "code",
        "colab": {
          "base_uri": "https://localhost:8080/",
          "height": 131
        },
        "outputId": "7ef0c394-9972-47e5-a9d2-53e6a64395b7"
      },
      "source": [
        "from keras.optimizers import Adam\n",
        "import numpy as np\n",
        "from keras.datasets import mnist\n",
        "\n",
        "# setting up params\n",
        "np.random.seed(10)\n",
        "noise_dim = 100\n",
        "batch_size = 16\n",
        "half_batch_size = int(batch_size/2)\n",
        "steps_per_epoch = 3750  # batch_size * steps_per_epoch = epoch size (train size)\n",
        "epochs = 5\n",
        "img_rows, img_cols, channels = 28, 28, 1\n",
        "sparse_dim = img_rows * img_cols * channels\n",
        "load_dict = True\n",
        "# loss functions weight:\n",
        "L1_weight = 10   # Loss = data_fidelity + L1_weight * L1_norm\n",
        "thr_value = 0.1\n",
        "# optimizer - lr & beta are hyper parameters\n",
        "optimizer = Adam(0.0002,0.5) \n",
        "#load data set\n",
        "(x_train, y_train), (x_test, y_test) = mnist.load_data()\n",
        "x_train = (x_train.astype(np.float32) - 127.5) / 127.5  # normalize between +1 -1\n",
        "x_train = x_train.reshape(-1, img_rows*img_cols*channels) # each image as vector\n",
        "x_test = x_test.reshape(-1, img_rows*img_cols*channels) # each image as vector\n",
        "np.random.shuffle(x_train)\n",
        "print(x_train.shape)"
      ],
      "execution_count": 1,
      "outputs": [
        {
          "output_type": "stream",
          "text": [
            "Using TensorFlow backend.\n"
          ],
          "name": "stderr"
        },
        {
          "output_type": "display_data",
          "data": {
            "text/html": [
              "<p style=\"color: red;\">\n",
              "The default version of TensorFlow in Colab will soon switch to TensorFlow 2.x.<br>\n",
              "We recommend you <a href=\"https://www.tensorflow.org/guide/migrate\" target=\"_blank\">upgrade</a> now \n",
              "or ensure your notebook will continue to use TensorFlow 1.x via the <code>%tensorflow_version 1.x</code> magic:\n",
              "<a href=\"https://colab.research.google.com/notebooks/tensorflow_version.ipynb\" target=\"_blank\">more info</a>.</p>\n"
            ],
            "text/plain": [
              "<IPython.core.display.HTML object>"
            ]
          },
          "metadata": {
            "tags": []
          }
        },
        {
          "output_type": "stream",
          "text": [
            "Downloading data from https://s3.amazonaws.com/img-datasets/mnist.npz\n",
            "11493376/11490434 [==============================] - 1s 0us/step\n",
            "(60000, 784)\n"
          ],
          "name": "stdout"
        }
      ]
    },
    {
      "cell_type": "markdown",
      "metadata": {
        "id": "48F-P2pVVbt3",
        "colab_type": "text"
      },
      "source": [
        "get dictionary:"
      ]
    },
    {
      "cell_type": "code",
      "metadata": {
        "id": "SgAUPHJCVddX",
        "colab_type": "code",
        "colab": {
          "base_uri": "https://localhost:8080/",
          "height": 513
        },
        "outputId": "7b1b51a3-9185-45d9-b669-1a5355367f63"
      },
      "source": [
        "from sklearn.decomposition import DictionaryLearning\n",
        "from numpy import loadtxt,savetxt\n",
        "import matplotlib.pyplot as plt\n",
        "from google.colab import files\n",
        "from numpy import loadtxt,savetxt\n",
        "import matplotlib.pyplot as plt\n",
        "\n",
        "if(load_dict==False):\n",
        "  # init a dictionary learning alg - based on LARS\n",
        "  d=DictionaryLearning(n_components=sparse_dim)\n",
        "  # train dictionary\n",
        "  d.fit(x_train)\n",
        "  dictionary = d.components_\n",
        "  savetxt('dictionary.csv', dictionary, delimiter=',')\n",
        "  # download to local machine\n",
        "  files.download('dictionary.csv') \n",
        "\n",
        "  # we will download to a local file named dictionary_loaded\n",
        "  #*reconstruct* an image for sanity check\n",
        "  representation_vec = d.transform(x_train[1:2,:])\n",
        "  print(representation_vec.shape)\n",
        "  print(dictionary_loaded2.shape)\n",
        "  dictionary_loaded2 = np.transpose(dictionary_loaded2)\n",
        "  representation_vec = np.transpose(representation_vec)\n",
        "  ans = np.matmul(dictionary_loaded2,representation_vec)\n",
        "\n",
        "  plt.figure()\n",
        "  plt.imshow(ans.reshape((img_rows, img_cols)), cmap='gray')\n",
        "\n",
        "  plt.figure()\n",
        "  real_im = x_train[1:2,:]\n",
        "  plt.imshow(real_im.reshape((img_rows, img_cols)), cmap='gray')\n",
        "else:\n",
        "  dictionary_loaded2 = loadtxt('dictionary_loaded.csv', delimiter=',')\n",
        "  dictionary_loaded2 = np.array(dictionary_loaded2,dtype=np.float32) # format that is used in keras\n",
        "  # the above dict should enable training a regular gan\n",
        "\n",
        "  # sanity check\n",
        "  dictionary_loaded2 = np.transpose(dictionary_loaded2)\n",
        "  atom1 = (dictionary_loaded2)[:,0]\n",
        "  plt.figure()\n",
        "  plt.imshow(atom1.reshape((img_rows, img_cols)), cmap='gray')\n",
        "\n",
        "  first_atom = np.zeros(784)\n",
        "  first_atom[0] = 1\n",
        "  plt.figure()\n",
        "  ans = np.matmul(dictionary_loaded2,np.transpose(first_atom))\n",
        "  plt.imshow(ans.reshape((img_rows, img_cols)), cmap='gray')"
      ],
      "execution_count": 3,
      "outputs": [
        {
          "output_type": "display_data",
          "data": {
            "image/png": "[encoded data removed]",
            "text/plain": [
              "<Figure size 432x288 with 1 Axes>"
            ]
          },
          "metadata": {
            "tags": []
          }
        },
        {
          "output_type": "display_data",
          "data": {
            "image/png": "[encoded data removed]",
            "text/plain": [
              "<Figure size 432x288 with 1 Axes>"
            ]
          },
          "metadata": {
            "tags": []
          }
        }
      ]
    },
    {
      "cell_type": "markdown",
      "metadata": {
        "id": "XmQ8XQsYVwOc",
        "colab_type": "text"
      },
      "source": [
        "Creating pursuiter NN"
      ]
    },
    {
      "cell_type": "code",
      "metadata": {
        "id": "9iXfxG3OV-Iu",
        "colab_type": "code",
        "colab": {
          "base_uri": "https://localhost:8080/",
          "height": 1000
        },
        "outputId": "a18bc9d0-af44-4c9c-db97-02832c6bbde2"
      },
      "source": [
        "# with pursuit and thresholding approach\n",
        "# generator:\n",
        "from keras.utils import plot_model\n",
        "from keras.models import Sequential\n",
        "from keras import backend as K\n",
        "from keras.layers.advanced_activations import LeakyReLU\n",
        "from keras.layers import Input\n",
        "from keras.models import Model\n",
        "from keras.initializers import RandomNormal, glorot_uniform\n",
        "from keras.layers import Dense, Conv2D, Flatten, Reshape, Dropout, AveragePooling2D, MaxPooling2D, BatchNormalization, Lambda, ReLU, ThresholdedReLU, Activation\n",
        "from tensorflow.linalg import matmul, matrix_transpose\n",
        "from tensorflow.math import abs\n",
        "from keras import regularizers\n",
        "\n",
        "\n",
        "from keras.utils.generic_utils import get_custom_objects\n",
        "import tensorflow as tf\n",
        "from tensorflow import cast\n",
        "\n",
        "# would cause small entries in absulute values to be set to zero and will create sparse vectors\n",
        "def soft_threshlding(x):\n",
        "  above_thr_pos = x * cast(x >= thr_value, tf.float32)\n",
        "  below_thr_neg = x * cast(x <= -thr_value, tf.float32)\n",
        "  return (above_thr_pos + below_thr_neg)\n",
        "\n",
        "get_custom_objects().update({'soft_threshlding': Activation(soft_threshlding)})\n",
        "\n",
        "def create_pursuiter():\n",
        "    pursuiter = Sequential()\n",
        "    init = RandomNormal(0,stddev=0.02)\n",
        "    pursuiter.add(Dense(1024, kernel_initializer=init, input_dim=784,name=\"pursuiter_input\"))\n",
        "    pursuiter.add(BatchNormalization())\n",
        "    pursuiter.add(LeakyReLU(0.2))\n",
        "\n",
        "    pursuiter.add(Dense(1024,kernel_initializer=init,name=\"pursuiter_2nd\"))\n",
        "    pursuiter.add(BatchNormalization())\n",
        "    pursuiter.add(LeakyReLU(0.2))\n",
        "\n",
        "    pursuiter.add(Dense(sparse_dim, kernel_initializer=init,name=\"pursuiter_3rd\"))\n",
        "    pursuiter.add(BatchNormalization())\n",
        "    # soft thresholding activation\n",
        "    pursuiter.add(Activation(soft_threshlding, name='soft_threshlding'))\n",
        "\n",
        "    #pursuiter.add(Lambda(lambda x: matrix_transpose(matmul(dictionary_loaded2,matrix_transpose(x))),name='mul_in_D'))\n",
        "\n",
        "    #pursuiter.compile(loss='mean_squared_error', optimizer=optimizer)\n",
        "    return pursuiter\n",
        "\n",
        "pursuiter = create_pursuiter()\n",
        "pursuiter.name = \"pursuit_unit\"\n",
        "pursuiter_input = Input(shape=(784,))\n",
        "\n",
        "sparse_vec = pursuiter(pursuiter_input) \n",
        "\n",
        "# a layer that creates the multiplication between the sparse tensor with dictionary to create image\n",
        "fake_image_vec = Lambda(lambda x: matrix_transpose(matmul(dictionary_loaded2,matrix_transpose(x))),name='mul_in_D')(sparse_vec)\n",
        "\n",
        "\n",
        "pursuiter_full = Model(pursuiter_input, [fake_image_vec,sparse_vec])\n",
        "pursuiter_full.compile(loss=['mean_squared_error','mean_absolute_error'], optimizer=optimizer,loss_weights=[1,0])\n",
        "pursuiter_full.name = \"pursuiter_full\"\n",
        "print(pursuiter_full.summary())\n",
        "\n",
        "#train\n",
        "zeros = np.zeros(10000*784)\n",
        "zeros=zeros.reshape(10000,784)\n",
        "model1=pursuiter_full.fit(x_train, [x_train,x_train], validation_data=(x_test, [x_test,zeros]), epochs=epochs, batch_size=16)\n",
        "\n",
        "plot_model(pursuiter_full, to_file='model_plot.png', show_shapes=True, show_layer_names=True,expand_nested=True)\n",
        "\n",
        "\n",
        "plt.figure()\n",
        "print(model1.history)\n",
        "plt.plot(range(1,len(model1.history['loss'])+1),model1.history['loss'], label='Train Acc')\n",
        "plt.plot(range(1,len(model1.history['val_loss'])+1),model1.history['val_loss'], label='Test Acc')\n",
        "plt.ylabel(\"Accuracy\")\n",
        "plt.xlabel(\"Epoch\")\n",
        "plt.legend()\n",
        "plt.grid()\n",
        "plt.show()"
      ],
      "execution_count": 4,
      "outputs": [
        {
          "output_type": "stream",
          "text": [
            "WARNING:tensorflow:From /usr/local/lib/python3.6/dist-packages/keras/backend/tensorflow_backend.py:66: The name tf.get_default_graph is deprecated. Please use tf.compat.v1.get_default_graph instead.\n",
            "\n",
            "WARNING:tensorflow:From /usr/local/lib/python3.6/dist-packages/keras/backend/tensorflow_backend.py:541: The name tf.placeholder is deprecated. Please use tf.compat.v1.placeholder instead.\n",
            "\n",
            "WARNING:tensorflow:From /usr/local/lib/python3.6/dist-packages/keras/backend/tensorflow_backend.py:4409: The name tf.random_normal is deprecated. Please use tf.random.normal instead.\n",
            "\n",
            "WARNING:tensorflow:From /usr/local/lib/python3.6/dist-packages/keras/backend/tensorflow_backend.py:148: The name tf.placeholder_with_default is deprecated. Please use tf.compat.v1.placeholder_with_default instead.\n",
            "\n",
            "WARNING:tensorflow:From /usr/local/lib/python3.6/dist-packages/keras/optimizers.py:793: The name tf.train.Optimizer is deprecated. Please use tf.compat.v1.train.Optimizer instead.\n",
            "\n",
            "Model: \"pursuiter_full\"\n",
            "_________________________________________________________________\n",
            "Layer (type)                 Output Shape              Param #   \n",
            "=================================================================\n",
            "input_1 (InputLayer)         (None, 784)               0         \n",
            "_________________________________________________________________\n",
            "pursuit_unit (Sequential)    (None, 784)               2668368   \n",
            "_________________________________________________________________\n",
            "mul_in_D (Lambda)            (None, 784)               0         \n",
            "=================================================================\n",
            "Total params: 2,668,368\n",
            "Trainable params: 2,662,704\n",
            "Non-trainable params: 5,664\n",
            "_________________________________________________________________\n",
            "None\n",
            "WARNING:tensorflow:From /usr/local/lib/python3.6/dist-packages/keras/backend/tensorflow_backend.py:1033: The name tf.assign_add is deprecated. Please use tf.compat.v1.assign_add instead.\n",
            "\n",
            "WARNING:tensorflow:From /usr/local/lib/python3.6/dist-packages/keras/backend/tensorflow_backend.py:1020: The name tf.assign is deprecated. Please use tf.compat.v1.assign instead.\n",
            "\n",
            "WARNING:tensorflow:From /usr/local/lib/python3.6/dist-packages/keras/backend/tensorflow_backend.py:3005: The name tf.Session is deprecated. Please use tf.compat.v1.Session instead.\n",
            "\n",
            "Train on 60000 samples, validate on 10000 samples\n",
            "Epoch 1/5\n",
            "WARNING:tensorflow:From /usr/local/lib/python3.6/dist-packages/keras/backend/tensorflow_backend.py:190: The name tf.get_default_session is deprecated. Please use tf.compat.v1.get_default_session instead.\n",
            "\n",
            "WARNING:tensorflow:From /usr/local/lib/python3.6/dist-packages/keras/backend/tensorflow_backend.py:197: The name tf.ConfigProto is deprecated. Please use tf.compat.v1.ConfigProto instead.\n",
            "\n",
            "WARNING:tensorflow:From /usr/local/lib/python3.6/dist-packages/keras/backend/tensorflow_backend.py:207: The name tf.global_variables is deprecated. Please use tf.compat.v1.global_variables instead.\n",
            "\n",
            "WARNING:tensorflow:From /usr/local/lib/python3.6/dist-packages/keras/backend/tensorflow_backend.py:216: The name tf.is_variable_initialized is deprecated. Please use tf.compat.v1.is_variable_initialized instead.\n",
            "\n",
            "WARNING:tensorflow:From /usr/local/lib/python3.6/dist-packages/keras/backend/tensorflow_backend.py:223: The name tf.variables_initializer is deprecated. Please use tf.compat.v1.variables_initializer instead.\n",
            "\n",
            "60000/60000 [==============================] - 156s 3ms/step - loss: 6.3588 - mul_in_D_loss: 0.2528 - pursuit_unit_loss: 0.6106 - val_loss: 5611.3693 - val_mul_in_D_loss: 4801.9960 - val_pursuit_unit_loss: 80.9373\n",
            "Epoch 2/5\n",
            "60000/60000 [==============================] - 153s 3ms/step - loss: 2.7461 - mul_in_D_loss: 0.4104 - pursuit_unit_loss: 0.2336 - val_loss: 6168.6100 - val_mul_in_D_loss: 5757.8204 - val_pursuit_unit_loss: 41.0790\n",
            "Epoch 3/5\n",
            "60000/60000 [==============================] - 153s 3ms/step - loss: 1.8413 - mul_in_D_loss: 0.5128 - pursuit_unit_loss: 0.1329 - val_loss: 6051.1571 - val_mul_in_D_loss: 5720.2213 - val_pursuit_unit_loss: 33.0936\n",
            "Epoch 4/5\n",
            "60000/60000 [==============================] - 154s 3ms/step - loss: 1.7691 - mul_in_D_loss: 0.5202 - pursuit_unit_loss: 0.1249 - val_loss: 6165.4947 - val_mul_in_D_loss: 5843.5804 - val_pursuit_unit_loss: 32.1914\n",
            "Epoch 5/5\n",
            "60000/60000 [==============================] - 156s 3ms/step - loss: 1.7432 - mul_in_D_loss: 0.5189 - pursuit_unit_loss: 0.1224 - val_loss: 6063.9360 - val_mul_in_D_loss: 5750.2045 - val_pursuit_unit_loss: 31.3731\n",
            "{'val_loss': [5611.369290625, 6168.6100328125, 6051.15711796875, 6165.494740625, 6063.935983984375], 'val_mul_in_D_loss': [4801.9959640625, 5757.8204484375, 5720.221319921875, 5843.58036328125, 5750.2045140625], 'val_pursuit_unit_loss': [80.93733355102539, 41.078958203125, 33.09357875061035, 32.191438003540036, 31.373146505737306], 'loss': [6.358830522092183, 2.7461071308135985, 1.8413446429570517, 1.7691450942993163, 1.7431794810930887], 'mul_in_D_loss': [0.2528135037779808, 0.4104269923289617, 0.5127787108500799, 0.520178593246142, 0.5189328919808069], 'pursuit_unit_loss': [0.6106017022768656, 0.2335680138548215, 0.13285659316380818, 0.12489665004014969, 0.12242465888857841]}\n"
          ],
          "name": "stdout"
        },
        {
          "output_type": "display_data",
          "data": {
            "image/png": "[encoded data removed]",
            "text/plain": [
              "<Figure size 432x288 with 1 Axes>"
            ]
          },
          "metadata": {
            "tags": []
          }
        }
      ]
    },
    {
      "cell_type": "markdown",
      "metadata": {
        "id": "mrU_M9SpWGJ8",
        "colab_type": "text"
      },
      "source": [
        "analyse results:"
      ]
    },
    {
      "cell_type": "code",
      "metadata": {
        "id": "X84fgUcEWJZ3",
        "colab_type": "code",
        "colab": {
          "base_uri": "https://localhost:8080/",
          "height": 683
        },
        "outputId": "acbf94a3-f3f9-4b05-a388-cc463114c86a"
      },
      "source": [
        "import random\n",
        "\n",
        "x_train_pred = pursuiter.predict(x_train)\n",
        "print(\"average support on train= \", np.count_nonzero(x_train_pred)/60000)\n",
        "\n",
        "x_test_pred = pursuiter.predict(x_test)\n",
        "print(\"average support on test= \", np.count_nonzero(x_test_pred)/10000)\n",
        "\n",
        "im = random.randrange(0, 9999)\n",
        "x_train.shape\n",
        "x = np.array([x_test[im,:]])\n",
        "\n",
        "# plt results\n",
        "print(\"Im_r, Im\")\n",
        "plt.figure()\n",
        "plt.imshow(pursuiter_full.predict(x)[0].reshape((img_rows, img_cols)), cmap='gray')\n",
        "\n",
        "plt.figure()\n",
        "plt.imshow(x[0].reshape((img_rows, img_cols)), cmap='gray')\n",
        "\n",
        "# is it sparse?\n",
        "pred = pursuiter.predict(x)\n",
        "print(\"sparse vector dim = \", pred.shape)\n",
        "print(\"sparse vector non zeros = \", np.count_nonzero(pred))\n",
        "print(\"sparse vec max element is = \",np.max(pred))\n",
        "print(\"positive number = \", np.count_nonzero(pred[pred>0]))\n",
        "print(\"sparse vec average positive =\",np.mean(pred[pred>0]))\n",
        "print(\"negatives number = \", np.count_nonzero(pred[pred<0]))\n",
        "print(\"sparse vec average negative =\",np.mean(pred[pred<0]))"
      ],
      "execution_count": 6,
      "outputs": [
        {
          "output_type": "stream",
          "text": [
            "average support on train=  771.9075166666667\n",
            "average support on test=  782.5408\n",
            "Im_r, Im\n",
            "sparse vector dim =  (1, 784)\n",
            "sparse vector non zeros =  784\n",
            "sparse vec max element is =  363.26685\n",
            "positive number =  310\n",
            "sparse vec average positive = 91.37237\n",
            "negatives number =  474\n",
            "sparse vec average negative = -3.43167\n"
          ],
          "name": "stdout"
        },
        {
          "output_type": "display_data",
          "data": {
            "image/png": "[encoded data removed]",
            "text/plain": [
              "<Figure size 432x288 with 1 Axes>"
            ]
          },
          "metadata": {
            "tags": []
          }
        },
        {
          "output_type": "display_data",
          "data": {
            "image/png": "[encoded data removed]",
            "text/plain": [
              "<Figure size 432x288 with 1 Axes>"
            ]
          },
          "metadata": {
            "tags": []
          }
        }
      ]
    }
  ]
}